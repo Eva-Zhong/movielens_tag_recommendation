{
 "cells": [
  {
   "cell_type": "code",
   "execution_count": 3,
   "metadata": {},
   "outputs": [],
   "source": [
    "import pandas as pd\n",
    "import numpy as np"
   ]
  },
  {
   "cell_type": "code",
   "execution_count": 4,
   "metadata": {},
   "outputs": [],
   "source": [
    "\n",
    "# Connect to the database\n",
    "import pymysql.cursors\n",
    "import json\n",
    "\n",
    "# We will use these lists to generate a table later. \n",
    "\n",
    "sessionIds = []\n",
    "loginIds = []\n",
    "\n",
    "# Connect to the database\n",
    "connection = pymysql.connect(host=\"127.0.0.1\",\n",
    "                             user=\"web\",\n",
    "                             password=\"atth1132\",\n",
    "                             db=\"ML3_mirror\")\n",
    "\n",
    "try:\n",
    "    with connection.cursor() as cursor:\n",
    "        # This query select rows from log_trailer_actions where the action is either TrailerModalLaunched or Recommendations Refreshed\n",
    "        # These two actions indicate that a recommendation list is generated. \n",
    "        \n",
    "        sql = \"\"\"\n",
    "        SELECT user_rating_pairs.userId, user_rating_pairs.movieId, user_rating_pairs.rating, user_rating_pairs.tstamp, movie_genre_pairs.movieId, movie_genre_pairs.genreId FROM user_rating_pairs\n",
    "        LEFT JOIN movie_genre_pairs\n",
    "        ON movie_genre_pairs.movieId = user_rating_pairs.movieId\n",
    "\n",
    "        \"\"\" \n",
    "        cursor.execute(sql)\n",
    "        result = cursor.fetchall()\n",
    "            \n",
    "finally: \n",
    "    connection.close()\n"
   ]
  },
  {
   "cell_type": "code",
   "execution_count": 5,
   "metadata": {},
   "outputs": [],
   "source": [
    "movie_rating_genre = pd.DataFrame(list(result), columns=['userId','movieId','rating','tstamp','movieId','genreId'])"
   ]
  },
  {
   "cell_type": "code",
   "execution_count": 6,
   "metadata": {},
   "outputs": [
    {
     "data": {
      "text/html": [
       "<div>\n",
       "<style scoped>\n",
       "    .dataframe tbody tr th:only-of-type {\n",
       "        vertical-align: middle;\n",
       "    }\n",
       "\n",
       "    .dataframe tbody tr th {\n",
       "        vertical-align: top;\n",
       "    }\n",
       "\n",
       "    .dataframe thead th {\n",
       "        text-align: right;\n",
       "    }\n",
       "</style>\n",
       "<table border=\"1\" class=\"dataframe\">\n",
       "  <thead>\n",
       "    <tr style=\"text-align: right;\">\n",
       "      <th></th>\n",
       "      <th>userId</th>\n",
       "      <th>movieId</th>\n",
       "      <th>rating</th>\n",
       "      <th>tstamp</th>\n",
       "      <th>movieId</th>\n",
       "      <th>genreId</th>\n",
       "    </tr>\n",
       "  </thead>\n",
       "  <tbody>\n",
       "    <tr>\n",
       "      <th>0</th>\n",
       "      <td>1</td>\n",
       "      <td>5</td>\n",
       "      <td>3.0</td>\n",
       "      <td>1997-10-17 06:48:20</td>\n",
       "      <td>5.0</td>\n",
       "      <td>5.0</td>\n",
       "    </tr>\n",
       "    <tr>\n",
       "      <th>1</th>\n",
       "      <td>1</td>\n",
       "      <td>10</td>\n",
       "      <td>4.0</td>\n",
       "      <td>1997-10-17 05:00:17</td>\n",
       "      <td>10.0</td>\n",
       "      <td>1.0</td>\n",
       "    </tr>\n",
       "    <tr>\n",
       "      <th>2</th>\n",
       "      <td>1</td>\n",
       "      <td>10</td>\n",
       "      <td>4.0</td>\n",
       "      <td>1997-10-17 05:00:17</td>\n",
       "      <td>10.0</td>\n",
       "      <td>2.0</td>\n",
       "    </tr>\n",
       "    <tr>\n",
       "      <th>3</th>\n",
       "      <td>1</td>\n",
       "      <td>10</td>\n",
       "      <td>4.0</td>\n",
       "      <td>1997-10-17 05:00:17</td>\n",
       "      <td>10.0</td>\n",
       "      <td>16.0</td>\n",
       "    </tr>\n",
       "    <tr>\n",
       "      <th>4</th>\n",
       "      <td>1</td>\n",
       "      <td>13</td>\n",
       "      <td>4.0</td>\n",
       "      <td>1997-10-17 06:37:13</td>\n",
       "      <td>13.0</td>\n",
       "      <td>2.0</td>\n",
       "    </tr>\n",
       "  </tbody>\n",
       "</table>\n",
       "</div>"
      ],
      "text/plain": [
       "   userId  movieId  rating              tstamp  movieId  genreId\n",
       "0       1        5     3.0 1997-10-17 06:48:20      5.0      5.0\n",
       "1       1       10     4.0 1997-10-17 05:00:17     10.0      1.0\n",
       "2       1       10     4.0 1997-10-17 05:00:17     10.0      2.0\n",
       "3       1       10     4.0 1997-10-17 05:00:17     10.0     16.0\n",
       "4       1       13     4.0 1997-10-17 06:37:13     13.0      2.0"
      ]
     },
     "execution_count": 6,
     "metadata": {},
     "output_type": "execute_result"
    }
   ],
   "source": [
    "movie_rating_genre.head()"
   ]
  },
  {
   "cell_type": "code",
   "execution_count": 11,
   "metadata": {},
   "outputs": [],
   "source": [
    "movie_rating_genre_agg = movie_rating_genre.groupby([\"userId\",\"genreId\"]).mean().reset_index()\n",
    "\n"
   ]
  },
  {
   "cell_type": "code",
   "execution_count": 12,
   "metadata": {},
   "outputs": [
    {
     "data": {
      "text/html": [
       "<div>\n",
       "<style scoped>\n",
       "    .dataframe tbody tr th:only-of-type {\n",
       "        vertical-align: middle;\n",
       "    }\n",
       "\n",
       "    .dataframe tbody tr th {\n",
       "        vertical-align: top;\n",
       "    }\n",
       "\n",
       "    .dataframe thead th {\n",
       "        text-align: right;\n",
       "    }\n",
       "</style>\n",
       "<table border=\"1\" class=\"dataframe\">\n",
       "  <thead>\n",
       "    <tr style=\"text-align: right;\">\n",
       "      <th></th>\n",
       "      <th>userId</th>\n",
       "      <th>genreId</th>\n",
       "      <th>movieId</th>\n",
       "      <th>rating</th>\n",
       "      <th>movieId</th>\n",
       "    </tr>\n",
       "  </thead>\n",
       "  <tbody>\n",
       "    <tr>\n",
       "      <th>0</th>\n",
       "      <td>1</td>\n",
       "      <td>1.0</td>\n",
       "      <td>926.821429</td>\n",
       "      <td>3.660714</td>\n",
       "      <td>926.821429</td>\n",
       "    </tr>\n",
       "    <tr>\n",
       "      <th>1</th>\n",
       "      <td>1</td>\n",
       "      <td>2.0</td>\n",
       "      <td>927.260000</td>\n",
       "      <td>3.740000</td>\n",
       "      <td>927.260000</td>\n",
       "    </tr>\n",
       "    <tr>\n",
       "      <th>2</th>\n",
       "      <td>1</td>\n",
       "      <td>3.0</td>\n",
       "      <td>812.055556</td>\n",
       "      <td>4.388889</td>\n",
       "      <td>812.055556</td>\n",
       "    </tr>\n",
       "    <tr>\n",
       "      <th>3</th>\n",
       "      <td>1</td>\n",
       "      <td>4.0</td>\n",
       "      <td>881.083333</td>\n",
       "      <td>3.805556</td>\n",
       "      <td>881.083333</td>\n",
       "    </tr>\n",
       "    <tr>\n",
       "      <th>4</th>\n",
       "      <td>1</td>\n",
       "      <td>5.0</td>\n",
       "      <td>897.600000</td>\n",
       "      <td>3.700000</td>\n",
       "      <td>897.600000</td>\n",
       "    </tr>\n",
       "  </tbody>\n",
       "</table>\n",
       "</div>"
      ],
      "text/plain": [
       "   userId  genreId     movieId    rating     movieId\n",
       "0       1      1.0  926.821429  3.660714  926.821429\n",
       "1       1      2.0  927.260000  3.740000  927.260000\n",
       "2       1      3.0  812.055556  4.388889  812.055556\n",
       "3       1      4.0  881.083333  3.805556  881.083333\n",
       "4       1      5.0  897.600000  3.700000  897.600000"
      ]
     },
     "execution_count": 12,
     "metadata": {},
     "output_type": "execute_result"
    }
   ],
   "source": [
    "movie_rating_genre_agg.head()"
   ]
  },
  {
   "cell_type": "code",
   "execution_count": 13,
   "metadata": {},
   "outputs": [],
   "source": [
    "movie_rating_genre_agg.to_csv(\"../movie_rating_genre_agg.csv\")\n",
    "\n"
   ]
  },
  {
   "cell_type": "code",
   "execution_count": null,
   "metadata": {},
   "outputs": [],
   "source": []
  }
 ],
 "metadata": {
  "kernelspec": {
   "display_name": "Python 3",
   "language": "python",
   "name": "python3"
  },
  "language_info": {
   "codemirror_mode": {
    "name": "ipython",
    "version": 3
   },
   "file_extension": ".py",
   "mimetype": "text/x-python",
   "name": "python",
   "nbconvert_exporter": "python",
   "pygments_lexer": "ipython3",
   "version": "3.6.4"
  }
 },
 "nbformat": 4,
 "nbformat_minor": 2
}

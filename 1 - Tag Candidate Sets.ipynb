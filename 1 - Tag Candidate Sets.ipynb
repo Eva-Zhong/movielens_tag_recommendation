{
 "cells": [
  {
   "cell_type": "markdown",
   "metadata": {},
   "source": [
    "This notebook checks if a tag is a candidate for the tag preference experiment\n",
    "\n",
    "- We mainly use tags in the tag genome;\n",
    "- We removed some duplicate tags;\n",
    "- We store the information in tag_data table\n"
   ]
  },
  {
   "cell_type": "code",
   "execution_count": 3,
   "metadata": {},
   "outputs": [],
   "source": [
    "import pandas as pd\n",
    "import numpy as np"
   ]
  },
  {
   "cell_type": "code",
   "execution_count": 8,
   "metadata": {},
   "outputs": [],
   "source": [
    "# This block counts how many times a tag has been applied; \n",
    "# Used for weighting user tags\n",
    "\n",
    "import pymysql.cursors\n",
    "import json\n",
    "\n",
    "# Connect to the database\n",
    "connection = pymysql.connect(host=\"127.0.0.1\",\n",
    "                             user=\"web\",\n",
    "                             password=\"atth1132\",\n",
    "                             db=\"ML3_dev\")\n",
    "try:\n",
    "    with connection.cursor() as cursor:\n",
    "            sql = \"SELECT tag, tagPrefCandidates FROM tag_data\"\n",
    "            cursor.execute(sql)\n",
    "            result = cursor.fetchall()\n",
    "            \n",
    "finally: \n",
    "    connection.close()\n",
    "\n",
    "\n",
    "\n"
   ]
  },
  {
   "cell_type": "code",
   "execution_count": 9,
   "metadata": {
    "scrolled": false
   },
   "outputs": [
    {
     "data": {
      "text/html": [
       "<div>\n",
       "<style scoped>\n",
       "    .dataframe tbody tr th:only-of-type {\n",
       "        vertical-align: middle;\n",
       "    }\n",
       "\n",
       "    .dataframe tbody tr th {\n",
       "        vertical-align: top;\n",
       "    }\n",
       "\n",
       "    .dataframe thead th {\n",
       "        text-align: right;\n",
       "    }\n",
       "</style>\n",
       "<table border=\"1\" class=\"dataframe\">\n",
       "  <thead>\n",
       "    <tr style=\"text-align: right;\">\n",
       "      <th></th>\n",
       "      <th>movieId</th>\n",
       "      <th>tag</th>\n",
       "      <th>numApps</th>\n",
       "      <th>numPositive</th>\n",
       "      <th>numNeutral</th>\n",
       "      <th>numNegative</th>\n",
       "      <th>numDownvotes</th>\n",
       "      <th>score</th>\n",
       "    </tr>\n",
       "  </thead>\n",
       "  <tbody>\n",
       "    <tr>\n",
       "      <th>0</th>\n",
       "      <td>1</td>\n",
       "      <td>2009 reissue in Stereoscopic 3-D</td>\n",
       "      <td>1</td>\n",
       "      <td>1</td>\n",
       "      <td>0</td>\n",
       "      <td>0</td>\n",
       "      <td>2</td>\n",
       "      <td>-1.0</td>\n",
       "    </tr>\n",
       "    <tr>\n",
       "      <th>1</th>\n",
       "      <td>1</td>\n",
       "      <td>3D</td>\n",
       "      <td>3</td>\n",
       "      <td>0</td>\n",
       "      <td>3</td>\n",
       "      <td>0</td>\n",
       "      <td>3</td>\n",
       "      <td>0.0</td>\n",
       "    </tr>\n",
       "    <tr>\n",
       "      <th>2</th>\n",
       "      <td>1</td>\n",
       "      <td>55 movies every kid should see--Entertainment ...</td>\n",
       "      <td>1</td>\n",
       "      <td>0</td>\n",
       "      <td>1</td>\n",
       "      <td>0</td>\n",
       "      <td>2</td>\n",
       "      <td>-1.0</td>\n",
       "    </tr>\n",
       "    <tr>\n",
       "      <th>3</th>\n",
       "      <td>1</td>\n",
       "      <td>action</td>\n",
       "      <td>1</td>\n",
       "      <td>0</td>\n",
       "      <td>1</td>\n",
       "      <td>0</td>\n",
       "      <td>1</td>\n",
       "      <td>0.0</td>\n",
       "    </tr>\n",
       "    <tr>\n",
       "      <th>4</th>\n",
       "      <td>1</td>\n",
       "      <td>action figure</td>\n",
       "      <td>1</td>\n",
       "      <td>0</td>\n",
       "      <td>1</td>\n",
       "      <td>0</td>\n",
       "      <td>2</td>\n",
       "      <td>-1.0</td>\n",
       "    </tr>\n",
       "  </tbody>\n",
       "</table>\n",
       "</div>"
      ],
      "text/plain": [
       "   movieId                                                tag  numApps  \\\n",
       "0        1                   2009 reissue in Stereoscopic 3-D        1   \n",
       "1        1                                                 3D        3   \n",
       "2        1  55 movies every kid should see--Entertainment ...        1   \n",
       "3        1                                             action        1   \n",
       "4        1                                      action figure        1   \n",
       "\n",
       "   numPositive  numNeutral  numNegative  numDownvotes  score  \n",
       "0            1           0            0             2   -1.0  \n",
       "1            0           3            0             3    0.0  \n",
       "2            0           1            0             2   -1.0  \n",
       "3            0           1            0             1    0.0  \n",
       "4            0           1            0             2   -1.0  "
      ]
     },
     "execution_count": 9,
     "metadata": {},
     "output_type": "execute_result"
    }
   ],
   "source": [
    "tag_data = pd.DataFrame(list(result), columns=['tag','tagPrefCandidates'])\n",
    "tag_candidates = tag_data[tag_data['tagPrefCandidates']==True]['tag'].tolist()"
   ]
  },
  {
   "cell_type": "code",
   "execution_count": null,
   "metadata": {},
   "outputs": [],
   "source": []
  }
 ],
 "metadata": {
  "kernelspec": {
   "display_name": "Python 3",
   "language": "python",
   "name": "python3"
  },
  "language_info": {
   "codemirror_mode": {
    "name": "ipython",
    "version": 3
   },
   "file_extension": ".py",
   "mimetype": "text/x-python",
   "name": "python",
   "nbconvert_exporter": "python",
   "pygments_lexer": "ipython3",
   "version": "3.6.5"
  }
 },
 "nbformat": 4,
 "nbformat_minor": 2
}
